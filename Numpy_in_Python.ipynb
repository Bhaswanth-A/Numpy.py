{
  "nbformat": 4,
  "nbformat_minor": 0,
  "metadata": {
    "colab": {
      "name": "Numpy_in_Python.ipynb",
      "provenance": [],
      "collapsed_sections": [],
      "include_colab_link": true
    },
    "kernelspec": {
      "name": "python3",
      "display_name": "Python 3.6.9 64-bit"
    },
    "language_info": {
      "name": "python",
      "version": "3.6.9",
      "mimetype": "text/x-python",
      "codemirror_mode": {
        "name": "ipython",
        "version": 3
      },
      "pygments_lexer": "ipython3",
      "nbconvert_exporter": "python",
      "file_extension": ".py"
    },
    "interpreter": {
      "hash": "31f2aee4e71d21fbe5cf8b01ff0e069b9275f58929596ceb00d14d90e3e16cd6"
    }
  },
  "cells": [
    {
      "cell_type": "markdown",
      "metadata": {
        "id": "view-in-github",
        "colab_type": "text"
      },
      "source": [
        "<a href=\"https://colab.research.google.com/github/Bhaswanth-A/Numpy.py/blob/main/Numpy_in_Python.ipynb\" target=\"_parent\"><img src=\"https://colab.research.google.com/assets/colab-badge.svg\" alt=\"Open In Colab\"/></a>"
      ]
    },
    {
      "cell_type": "markdown",
      "metadata": {
        "id": "LLZQvYJe00QF"
      },
      "source": [
        "## What is Numpy?\n",
        "\n",
        "Numpy is the python package that allows us to work with multidimensional array objects. It is extremely useful for scientific computing using Python, and is widely used in various fields such as Machine Learning for Data Analysis etc.\n"
      ]
    },
    {
      "cell_type": "markdown",
      "metadata": {
        "id": "IVp_cEGz1AO8"
      },
      "source": [
        "## Array\n",
        "\n",
        "An Array in Numpy is a matrix of elements having the same datatype. An array class in Numpy is known as ndarray (N-dimensional array). "
      ]
    },
    {
      "cell_type": "markdown",
      "metadata": {
        "id": "YInTtnLW1GAZ"
      },
      "source": [
        "## Creating a Numpy Array\n"
      ]
    },
    {
      "cell_type": "code",
      "metadata": {
        "id": "anWBMk090xDX",
        "colab": {
          "base_uri": "https://localhost:8080/"
        },
        "outputId": "019245e0-7860-4e0f-d2b6-a37cd8e6e26b"
      },
      "source": [
        "# Using array() method\n",
        "\n",
        "import numpy as np\n",
        "\n",
        "arr = np.array([[1, 4, 7],\n",
        "                [7, 2, 9],\n",
        "                [5, 0, 1]])\n",
        "\n",
        "print('Created Array:\\n {}'.format(arr))\n"
      ],
      "execution_count": null,
      "outputs": [
        {
          "output_type": "stream",
          "name": "stdout",
          "text": [
            "Created Array:\n",
            " [[1 4 7]\n",
            " [7 2 9]\n",
            " [5 0 1]]\n"
          ]
        }
      ]
    },
    {
      "cell_type": "code",
      "metadata": {
        "id": "6-N2Aqu41j31",
        "colab": {
          "base_uri": "https://localhost:8080/"
        },
        "outputId": "e08bf21b-122b-46d7-f28e-516a014347fa"
      },
      "source": [
        "# Using empty() method\n",
        "# numpy.empty(shape, dtype = float, order = ‘C’) : Return a new array of given shape and type, with random values.\n",
        "\n",
        "import numpy as np\n",
        "\n",
        "arr = np.empty((3, 3), dtype=int)\n",
        "print('Empty Array:\\n {}'.format(arr))\n"
      ],
      "execution_count": null,
      "outputs": [
        {
          "output_type": "stream",
          "name": "stdout",
          "text": [
            "Empty Array:\n",
            " [[1 4 7]\n",
            " [7 2 9]\n",
            " [5 0 1]]\n"
          ]
        }
      ]
    },
    {
      "cell_type": "code",
      "metadata": {
        "id": "a9jxO2dv3M5U",
        "colab": {
          "base_uri": "https://localhost:8080/"
        },
        "outputId": "aa91ca45-302d-44a3-e379-ced807e76cad"
      },
      "source": [
        "# Using eye() method\n",
        "# numpy.eye(R, C = None, k = 0, dtype = type <‘float’>) : The eye tool returns a 2-D array with  1’s as the diagonal and  0’s elsewhere.\n",
        "# The diagonal can be main, upper, lower depending on the optional parameter k.\n",
        "# A positive k is for the upper diagonal, a negative k is for the lower, and 0 k (default) is for the main diagonal.\n",
        "\n",
        "import numpy as np\n",
        "\n",
        "arr1 = np.eye(4, 4, k=0, dtype=int)\n",
        "print('Matrix: \\n {}'.format(arr1))\n",
        "\n",
        "arr2 = np.eye(4, 4, k=1, dtype=int)\n",
        "print('Matrix: \\n {}'.format(arr2))\n",
        "\n",
        "arr3 = np.eye(4, 4, k=-1, dtype=int)\n",
        "print('Matrix: \\n {}'.format(arr3))\n"
      ],
      "execution_count": null,
      "outputs": [
        {
          "output_type": "stream",
          "name": "stdout",
          "text": [
            "Matrix: \n",
            " [[1 0 0 0]\n",
            " [0 1 0 0]\n",
            " [0 0 1 0]\n",
            " [0 0 0 1]]\n",
            "Matrix: \n",
            " [[0 1 0 0]\n",
            " [0 0 1 0]\n",
            " [0 0 0 1]\n",
            " [0 0 0 0]]\n",
            "Matrix: \n",
            " [[0 0 0 0]\n",
            " [1 0 0 0]\n",
            " [0 1 0 0]\n",
            " [0 0 1 0]]\n"
          ]
        }
      ]
    },
    {
      "cell_type": "code",
      "metadata": {
        "id": "h8iMclBa5NIQ",
        "colab": {
          "base_uri": "https://localhost:8080/"
        },
        "outputId": "dc6085a9-ac4c-4331-93f8-3cbf313b072c"
      },
      "source": [
        "# Using identity() method\n",
        "# numpy.identity(n, dtype = None) : Return a identity matrix i.e. a square matrix with 1's on the main diagonal.\n",
        "\n",
        "import numpy as np\n",
        "\n",
        "arr = np.identity(4)\n",
        "print('Identity Matrix: \\n {}'.format(arr))\n"
      ],
      "execution_count": null,
      "outputs": [
        {
          "output_type": "stream",
          "name": "stdout",
          "text": [
            "Identity Matrix: \n",
            " [[1. 0. 0. 0.]\n",
            " [0. 1. 0. 0.]\n",
            " [0. 0. 1. 0.]\n",
            " [0. 0. 0. 1.]]\n"
          ]
        }
      ]
    },
    {
      "cell_type": "code",
      "metadata": {
        "id": "Lj_kOf3m5x7X",
        "colab": {
          "base_uri": "https://localhost:8080/"
        },
        "outputId": "b61f5ba2-4471-4dd8-d1f9-2baa00f8bf06"
      },
      "source": [
        "# Using ones() method\n",
        "# numpy.ones(shape, dtype = None, order = 'C')  Returns a new array of given shape and type, with ones.\n",
        "\n",
        "import numpy as np\n",
        "\n",
        "arr_one = np.ones([3, 3])\n",
        "print('Matrix with 1 as elements: \\n {}'.format(arr_one))\n",
        "\n",
        "# Using zeros() method\n",
        "# numpy.zeros(shape, dtype = None, order = 'C')  Returns a new array of\n",
        "# given shape and type, with zeros.\n",
        "\n",
        "arr_zero = np.zeros([3, 3])\n",
        "print('Matrix with 0 as elements: \\n {}'.format(arr_zero))\n"
      ],
      "execution_count": null,
      "outputs": [
        {
          "output_type": "stream",
          "name": "stdout",
          "text": [
            "Matrix with 1 as elements: \n",
            " [[1. 1. 1.]\n",
            " [1. 1. 1.]\n",
            " [1. 1. 1.]]\n",
            "Matrix with 0 as elements: \n",
            " [[0. 0. 0.]\n",
            " [0. 0. 0.]\n",
            " [0. 0. 0.]]\n"
          ]
        }
      ]
    },
    {
      "cell_type": "code",
      "metadata": {
        "id": "HHk0z-Hv8Bqf",
        "colab": {
          "base_uri": "https://localhost:8080/"
        },
        "outputId": "d97e0e1a-a2b7-45ae-ef20-d3b0038355f1"
      },
      "source": [
        "# Using asarray() method\n",
        "# numpy.asarray()function is used to convert input to an array. \n",
        "# Input can be lists, lists of tuples, tuples, tuples of tuples, tuples of lists and ndarrays.\n",
        "\n",
        "import numpy as np\n",
        "\n",
        "arr_tuple1 = ([1,6,5],[2,7,6])\n",
        "print('Input: {}'.format(arr_tuple1))\n",
        "\n",
        "arr1 = np.asarray(arr_tuple1)\n",
        "print('Array: \\n {}'.format(arr1))\n",
        "\n",
        "\n",
        "# Uncomment these lines to see what happens if you try to convert inputs having different lengths into an array\n",
        "# arr_tuple2 = ([1,6,5],[2,7])\n",
        "# print('Input: {}'.format(arr_tuple2))\n",
        "\n",
        "# arr2 = np.asarray(arr_tuple2)\n",
        "# print('Array: \\n {}'.format(arr2))"
      ],
      "execution_count": null,
      "outputs": [
        {
          "output_type": "stream",
          "name": "stdout",
          "text": [
            "Input: ([1, 6, 5], [2, 7, 6])\n",
            "Array: \n",
            " [[1 6 5]\n",
            " [2 7 6]]\n"
          ]
        }
      ]
    },
    {
      "cell_type": "code",
      "metadata": {
        "id": "yM-U8KDU8ug-",
        "colab": {
          "base_uri": "https://localhost:8080/"
        },
        "outputId": "579a0177-d6b8-46a5-a6d0-9f39124630cd"
      },
      "source": [
        "# Using arange() method\n",
        "# arange([start,] stop[, step,][, dtype]) : Returns an array with evenly spaced elements as per the interval.\n",
        "\n",
        "import numpy as np\n",
        "\n",
        "arr_1 = np.arange(0, 20)\n",
        "print('Array 1: {}'.format(arr_1))\n",
        "\n",
        "arr_2 = np.arange(2, 20, 3)\n",
        "print('Array 2: {}'.format(arr_2))\n"
      ],
      "execution_count": null,
      "outputs": [
        {
          "output_type": "stream",
          "name": "stdout",
          "text": [
            "Array 1: [ 0  1  2  3  4  5  6  7  8  9 10 11 12 13 14 15 16 17 18 19]\n",
            "Array 2: [ 2  5  8 11 14 17]\n"
          ]
        }
      ]
    },
    {
      "cell_type": "code",
      "metadata": {
        "colab": {
          "base_uri": "https://localhost:8080/"
        },
        "id": "VOiHn__7bjhT",
        "outputId": "10f6cd1d-4581-43cd-d986-ea0533189c20"
      },
      "source": [
        "# Using linspace() method\n",
        "# Returns number spaces evenly w.r.t interval. Similar to numpy.arange() function but instead of step it uses sample number.\n",
        "\n",
        "import numpy as np\n",
        "\n",
        "arr_1 = np.linspace(start=0, stop=10, num=5, retstep=True, dtype=int)\n",
        "print('Arr 1:\\n {}'.format(arr_1))\n",
        "\n",
        "arr_2 = np.linspace(start=0, stop=10, num=5, retstep=False, dtype=int)\n",
        "print('Arr 2:\\n {}'.format(arr_2))\n"
      ],
      "execution_count": null,
      "outputs": [
        {
          "output_type": "stream",
          "name": "stdout",
          "text": [
            "Arr 1:\n",
            " (array([ 0,  2,  5,  7, 10]), 2.5)\n",
            "Arr 2:\n",
            " [ 0  2  5  7 10]\n"
          ]
        }
      ]
    },
    {
      "cell_type": "code",
      "metadata": {
        "colab": {
          "base_uri": "https://localhost:8080/"
        },
        "id": "7h_I6Sqice23",
        "outputId": "455f90d9-7aa7-4b4b-f8ed-316053cfd739"
      },
      "source": [
        "# Using diag() method\n",
        "# Extracts and construct a diagonal array\n",
        "# k=0 denotes main diagonal. k>0 denotes diagonal above main diagonal. k<0 denotes diagonal below main diagonal\n",
        "\n",
        "import numpy as np\n",
        "\n",
        "arr = np.array([[1, 2, 6],\n",
        "                [4, 8, 1],\n",
        "                [6, 9, 0]])\n",
        "\n",
        "print('Array:\\n {}'.format(arr))\n",
        "\n",
        "diag_1 = np.diag(arr, k=0)\n",
        "print('Main diag: {}'.format(diag_1))\n",
        "\n",
        "diag_2 = np.diag(arr, k=1)\n",
        "print('Upper diag: {}'.format(diag_2))\n",
        "\n",
        "diag_3 = np.diag(arr, k=-1)\n",
        "print('Lower diag: {}'.format(diag_3))\n"
      ],
      "execution_count": null,
      "outputs": [
        {
          "output_type": "stream",
          "name": "stdout",
          "text": [
            "Array:\n",
            " [[1 2 6]\n",
            " [4 8 1]\n",
            " [6 9 0]]\n",
            "Main diag: [1 8 0]\n",
            "Upper diag: [2 1]\n",
            "Lower diag: [4 9]\n"
          ]
        }
      ]
    },
    {
      "cell_type": "code",
      "metadata": {
        "colab": {
          "base_uri": "https://localhost:8080/"
        },
        "id": "XRUUyMFadyRo",
        "outputId": "2a825788-c952-49d6-e77f-28b54ba2631c"
      },
      "source": [
        "# Using diagflat() method\n",
        "# Create a two-dimensional array with the array_like input as a diagonal to the new output array.\n",
        "\n",
        "import numpy as np\n",
        "\n",
        "print(\"diagflat use on main diagonal : \\n\", np.diagflat([1, 7, 6], k=0))\n",
        "\n",
        "print(\"\\ndiagflat above main diagonal : \\n\", np.diagflat([1, 7, 6], k=1))\n",
        "\n",
        "print(\"\\ndiagflat below main diagonal : \\n\", np.diagflat([1, 7, 6], k=-1))\n"
      ],
      "execution_count": null,
      "outputs": [
        {
          "output_type": "stream",
          "name": "stdout",
          "text": [
            "diagflat use on main diagonal : \n",
            " [[1 0 0]\n",
            " [0 7 0]\n",
            " [0 0 6]]\n",
            "\n",
            "diagflat above main diagonal : \n",
            " [[0 1 0 0]\n",
            " [0 0 7 0]\n",
            " [0 0 0 6]\n",
            " [0 0 0 0]]\n",
            "\n",
            "diagflat below main diagonal : \n",
            " [[0 0 0 0]\n",
            " [1 0 0 0]\n",
            " [0 7 0 0]\n",
            " [0 0 6 0]]\n"
          ]
        }
      ]
    },
    {
      "cell_type": "code",
      "metadata": {
        "id": "VhsvJBxOg4He",
        "outputId": "4e0fc9b1-d35b-4616-8a79-57b70fe84a7b"
      },
      "source": [
        "# RANDOM NUMBERS\n",
        "# randint(low, high=None, size=None, dtype=) Uniformly distributes integers in a given range\n",
        "import numpy as np\n",
        "\n",
        "np.random.seed(101) # enter an arbitrary number (called seed number)\n",
        "\n",
        "arr1 = np.random.randint(0,100,10) # Returns random numbers from 'low'(inclusive) to 'high'(exclusive)\n",
        "print(arr1)"
      ],
      "execution_count": null,
      "outputs": [
        {
          "output_type": "stream",
          "name": "stdout",
          "text": [
            "[95 11 81 70 63 87 75  9 77 40]\n"
          ]
        }
      ]
    },
    {
      "cell_type": "markdown",
      "metadata": {
        "id": "_V_UgcaTet6N"
      },
      "source": [
        "## Indexing:\n",
        "\n",
        "Idexing is done in order to obtain slices of the main array. This can be done in the following ways-\n",
        "\n",
        "1. Basic slicing and indexing: using the form [start: stop: step]\n",
        "\n",
        "\n",
        "2. Advanced indexing: done by pure integer indexing or boolean indexing"
      ]
    },
    {
      "cell_type": "code",
      "metadata": {
        "colab": {
          "base_uri": "https://localhost:8080/"
        },
        "id": "Cbi6IxCXfig1",
        "outputId": "b393f974-56a0-42ce-d994-cac3c725dfcb"
      },
      "source": [
        "# Basic slicing and indexing\n",
        "\n",
        "arr_1 = np.array([[[1, 2, 3], [4, 5, 6]],\n",
        "                  [[7, 8, 9], [10, 11, 12]]])\n",
        "\n",
        "print('Array 1:\\n {}\\n'.format(arr_1))\n",
        "\n",
        "print('Indexing 1: \\n {}\\n'.format(arr_1[:, :, 2]))\n",
        "\n",
        "print('Indexing 2: \\n {}\\n'.format(arr_1[:, :, 0]))\n",
        "\n",
        "\n",
        "arr_2 = np.arange(0, 10)\n",
        "print('Array 2: {}\\n'.format(arr_2))\n",
        "\n",
        "print('Indexing: \\n {}\\n'.format(arr_2[2:9:2]))\n",
        "\n",
        "arr_3 = np.array([[0, 1, 2], [3, 4, 5],\n",
        "                  [6, 7, 8], [9, 10, 11]])\n",
        "print('Array 3:\\n {}\\n'.format(arr_3))\n",
        "\n",
        "index_1 = arr_3[1:4, 0:2]\n",
        "print('Indexing: {}'.format(index_1))\n",
        "\n",
        "index_2 = arr_3[1:4, [2, 0]]\n",
        "print('Indexing:\\n {}\\n'.format(index_2))\n"
      ],
      "execution_count": null,
      "outputs": [
        {
          "output_type": "stream",
          "name": "stdout",
          "text": [
            "Array 1:\n",
            " [[[ 1  2  3]\n",
            "  [ 4  5  6]]\n",
            "\n",
            " [[ 7  8  9]\n",
            "  [10 11 12]]]\n",
            "\n",
            "Indexing 1: \n",
            " [[ 3  6]\n",
            " [ 9 12]]\n",
            "\n",
            "Indexing 2: \n",
            " [[ 1  4]\n",
            " [ 7 10]]\n",
            "\n",
            "Array 2: [0 1 2 3 4 5 6 7 8 9]\n",
            "\n",
            "Indexing: \n",
            " [2 4 6 8]\n",
            "\n",
            "Array 3:\n",
            " [[ 0  1  2]\n",
            " [ 3  4  5]\n",
            " [ 6  7  8]\n",
            " [ 9 10 11]]\n",
            "\n",
            "Indexing: [[ 3  4]\n",
            " [ 6  7]\n",
            " [ 9 10]]\n",
            "Indexing:\n",
            " [[ 5  3]\n",
            " [ 8  6]\n",
            " [11  9]]\n",
            "\n"
          ]
        }
      ]
    },
    {
      "cell_type": "code",
      "metadata": {
        "colab": {
          "base_uri": "https://localhost:8080/"
        },
        "id": "Ank6csjNh2m0",
        "outputId": "4918ece8-f992-46c3-f45e-b4631f940398"
      },
      "source": [
        "# Advanced slicing\n",
        "\n",
        "import numpy as np\n",
        "\n",
        "arr_1 = np.array([[3, 4, 7],\n",
        "                  [5, 1, 8],\n",
        "                  [2, 4, 7]])\n",
        "\n",
        "print('Array 1:\\n {}\\n'.format(arr_1))\n",
        "\n",
        "ind_1 = arr_1[[1, 2, 1],\n",
        "              [2, 0, 1]]    # index inputs are column-wise\n",
        "print('Index 1:\\n {}\\n'.format(ind_1))\n",
        "\n",
        "# Type of rearrangement (See carefully)\n",
        "imp = arr_1[np.array([[1, 2, 1],\n",
        "                     [2, 0, 1]])]\n",
        "print('Imp:\\n {}'.format(imp))\n",
        "\n",
        "\n",
        "# Boolean indexing\n",
        "\n",
        "arr_2 = np.array([[2, 5, 8],\n",
        "                  [1, 9, 0],\n",
        "                  [3, 5, 4]])\n",
        "\n",
        "print('Array 2:\\n {}\\n'.format(arr_2))\n",
        "\n",
        "ind_2 = arr_2[arr_2 >= 3]\n",
        "print('Indexing 2:\\n {}\\n'.format(ind_2))\n",
        "\n",
        "arr_3 = np.array([10, 40, 80, 50, 100])\n",
        "print('Indexing 3:\\n {}'.format((arr_3[arr_3 % 40 == 0])**2))\n"
      ],
      "execution_count": null,
      "outputs": [
        {
          "output_type": "stream",
          "name": "stdout",
          "text": [
            "Array 1:\n",
            " [[3 4 7]\n",
            " [5 1 8]\n",
            " [2 4 7]]\n",
            "\n",
            "Index 1:\n",
            " [8 2 1]\n",
            "\n",
            "Imp:\n",
            " [[[5 1 8]\n",
            "  [2 4 7]\n",
            "  [5 1 8]]\n",
            "\n",
            " [[2 4 7]\n",
            "  [3 4 7]\n",
            "  [5 1 8]]]\n",
            "Array 2:\n",
            " [[2 5 8]\n",
            " [1 9 0]\n",
            " [3 5 4]]\n",
            "\n",
            "Indexing 2:\n",
            " [5 8 9 3 5 4]\n",
            "\n",
            "Indexing 3:\n",
            " [1600 6400]\n"
          ]
        }
      ]
    },
    {
      "cell_type": "markdown",
      "metadata": {
        "id": "wDCMSEv4qTy2"
      },
      "source": [
        "### Using .reshape(rows,columns) method\n",
        "\n",
        "This method allows us to convert a given list into an array with required number of rows and columns."
      ]
    },
    {
      "cell_type": "code",
      "metadata": {
        "colab": {
          "base_uri": "https://localhost:8080/"
        },
        "id": "vV_tp5L0qjT6",
        "outputId": "b28a1dd5-3931-4369-f29f-0144d133b914"
      },
      "source": [
        "# Using reshape() method\n",
        "\n",
        "import numpy as np\n",
        "\n",
        "arr = np.arange(0, 20)\n",
        "print('Array 1: {}\\n'.format(arr))\n",
        "\n",
        "arr_2 = arr.reshape(4, 5)\n",
        "print('Array 2:\\n {}'.format(arr_2))\n"
      ],
      "execution_count": null,
      "outputs": [
        {
          "output_type": "stream",
          "name": "stdout",
          "text": [
            "Array 1: [ 0  1  2  3  4  5  6  7  8  9 10 11 12 13 14 15 16 17 18 19]\n",
            "\n",
            "Array 2:\n",
            " [[ 0  1  2  3  4]\n",
            " [ 5  6  7  8  9]\n",
            " [10 11 12 13 14]\n",
            " [15 16 17 18 19]]\n"
          ]
        }
      ]
    },
    {
      "cell_type": "markdown",
      "metadata": {
        "id": "AsR9iBNemhHl"
      },
      "source": [
        "### Using numpy.nditer()\n",
        "\n",
        "This method allows us to iterate over multi-dimensional arrays."
      ]
    },
    {
      "cell_type": "code",
      "metadata": {
        "colab": {
          "base_uri": "https://localhost:8080/"
        },
        "id": "qtUkxARRrJnB",
        "outputId": "c35feec5-0333-4301-b1ff-d17d5ebe6090"
      },
      "source": [
        "# Using numpy.nditer() method\n",
        "# https://youtu.be/XawR6CjAYV4\n",
        "\n",
        "import numpy as np\n",
        "\n",
        "arr = np.arange(0, 12).reshape(3, 4)\n",
        "print('Reshaped Array 1:\\n {}\\n'.format(arr))\n",
        "\n",
        "# Using a for loop\n",
        "# for row in arr:\n",
        "#  for cell in row:\n",
        "#    print(cell)\n",
        "\n",
        "# Both the codes are equivalent\n",
        "# for row in arr.flatten():\n",
        "#  print(row)\n",
        "\n",
        "# Using nditer row-wise\n",
        "for x in np.nditer(arr, order='C'):\n",
        "    print(x)\n",
        "\n",
        "print()\n",
        "\n",
        "# Using nditer column-wise\n",
        "for x in np.nditer(arr, order='F'):\n",
        "    print(x)\n"
      ],
      "execution_count": null,
      "outputs": [
        {
          "output_type": "stream",
          "name": "stdout",
          "text": [
            "Reshaped Array 1:\n",
            " [[ 0  1  2  3]\n",
            " [ 4  5  6  7]\n",
            " [ 8  9 10 11]]\n",
            "\n",
            "0\n",
            "1\n",
            "2\n",
            "3\n",
            "4\n",
            "5\n",
            "6\n",
            "7\n",
            "8\n",
            "9\n",
            "10\n",
            "11\n",
            "\n",
            "0\n",
            "4\n",
            "8\n",
            "1\n",
            "5\n",
            "9\n",
            "2\n",
            "6\n",
            "10\n",
            "3\n",
            "7\n",
            "11\n"
          ]
        }
      ]
    },
    {
      "cell_type": "code",
      "metadata": {
        "colab": {
          "base_uri": "https://localhost:8080/"
        },
        "id": "EiUr-TIkuTdD",
        "outputId": "0d937d8c-0b96-49d6-d62b-c513ba7118e4"
      },
      "source": [
        "# Using flags with nditer()\n",
        "\n",
        "import numpy as np\n",
        "\n",
        "a = np.arange(0, 12).reshape(3, 4)\n",
        "print('Array:\\n {}\\n'.format(a))\n",
        "\n",
        "# Doing this will allow you to print your entire column at once\n",
        "for x in np.nditer(a, order='F', flags=['external_loop']):\n",
        "    print(x)\n",
        "\n",
        "print()\n",
        "\n",
        "# Doing this will allow you to print your entire row at once\n",
        "for x in np.nditer(a, order='C', flags=['external_loop']):\n",
        "    print(x)\n",
        "\n",
        "print()\n",
        "\n",
        "# Using optional flags with op_flags option\n",
        "# readwrite option is used to modify the elements of the array, and in this case, it gives us the square of all elements\n",
        "for x in np.nditer(a, op_flags=['readwrite']):\n",
        "    x[...] = x*x  # [...] is ellipsis.\n",
        "\n",
        "print(a)\n"
      ],
      "execution_count": null,
      "outputs": [
        {
          "output_type": "stream",
          "name": "stdout",
          "text": [
            "Array:\n",
            " [[ 0  1  2  3]\n",
            " [ 4  5  6  7]\n",
            " [ 8  9 10 11]]\n",
            "\n",
            "[0 4 8]\n",
            "[1 5 9]\n",
            "[ 2  6 10]\n",
            "[ 3  7 11]\n",
            "\n",
            "[ 0  1  2  3  4  5  6  7  8  9 10 11]\n",
            "\n",
            "[[  0   1   4   9]\n",
            " [ 16  25  36  49]\n",
            " [ 64  81 100 121]]\n"
          ]
        }
      ]
    },
    {
      "cell_type": "code",
      "metadata": {
        "colab": {
          "base_uri": "https://localhost:8080/"
        },
        "id": "SGH8B6Z7yGlr",
        "outputId": "fee9b870-25c0-4d61-8457-7957e03b79cc"
      },
      "source": [
        "# Iterating through two arrays using nditer()\n",
        "# To do this, either both arrays should have the same shape, or one of the\n",
        "# dimensions in one of the arrays should be 1\n",
        "\n",
        "a = np.arange(0, 12).reshape(3, 4)\n",
        "print('Array 1:\\n {}\\n'.format(a))\n",
        "\n",
        "b = np.arange(3, 15, 4).reshape(3, 1)\n",
        "print('Array 2:\\n {}\\n'.format(b))\n",
        "\n",
        "for x, y in np.nditer([a, b]):\n",
        "    print(x, y)\n"
      ],
      "execution_count": null,
      "outputs": [
        {
          "output_type": "stream",
          "name": "stdout",
          "text": [
            "Array 1:\n",
            " [[ 0  1  2  3]\n",
            " [ 4  5  6  7]\n",
            " [ 8  9 10 11]]\n",
            "\n",
            "Array 2:\n",
            " [[ 3]\n",
            " [ 7]\n",
            " [11]]\n",
            "\n",
            "0 3\n",
            "1 3\n",
            "2 3\n",
            "3 3\n",
            "4 7\n",
            "5 7\n",
            "6 7\n",
            "7 7\n",
            "8 11\n",
            "9 11\n",
            "10 11\n",
            "11 11\n"
          ]
        }
      ]
    },
    {
      "cell_type": "markdown",
      "metadata": {
        "id": "8bxaMnWovK9x"
      },
      "source": [
        "## Binary Operations in Numpy\n",
        "\n",
        "1. `numpy.bitwise_and(arr1,arr2)`: Computes the bitwise AND of two arrays, element wise\n",
        "\n",
        "2. `numpy.bitwise_or(arr1,arr2)`: Computes the bitwise OR of two arrays, element wise\n",
        "\n",
        "3. `numpy.bitwise_xor(arr1,arr2)`: Computes the bitwise XOR of two arrays, element wise\n",
        "\n",
        "4. `numpy.invert(arr)`: Computes the bitwise NOT of an array, element wise\n",
        "\n",
        "5. `numpy.left_shift(arr,bit_shift)`: Shifts the bits of an integer to the left and returns the corresponding decimal representation.\n",
        "\n",
        "6. `numpy.right_shift(arr,bit_shift)`: Shifts the bits of an integer to the right and returns the corresponding decimal representation.\n",
        "\n",
        "7. `numpy.unpackbits(array,axis)`: Unpacks elements of a uint8 array into a binary-valued output array.\n",
        "\n",
        "8. `numpy.packbits(array,axis)`: Packs the elements of a binary-valued array into bits in a uint8 array.\n",
        "\n",
        "9. `numpy.binary_repr(number,width)`: Gives the binary represntation of the array element. For negative numbers, if width is not given, a minus sign is added to the front. If width is given, the two’s complement of the number is returned, with respect to that width."
      ]
    },
    {
      "cell_type": "code",
      "metadata": {
        "colab": {
          "base_uri": "https://localhost:8080/"
        },
        "id": "7eXeJB_fyA_s",
        "outputId": "07c75f17-cba1-45b2-b7c6-f49e4a9a9583"
      },
      "source": [
        "# BINARY OPERATIONS\n",
        "\n",
        "import numpy as np\n",
        "\n",
        "arr_1 = np.array([2, 8, 125])\n",
        "arr_2 = np.array([3, 3, 115])\n",
        "\n",
        "print('Array 1: {}\\n'.format(arr_1))\n",
        "print('Array 2: {}\\n'.format(arr_2))\n",
        "\n",
        "# Bitswise AND Operation\n",
        "arr_and = np.bitwise_and(arr_1, arr_2)\n",
        "print('Bitwise AND: {}\\n'.format(arr_and))\n",
        "\n",
        "# Bitwise OR Operation\n",
        "arr_or = np.bitwise_or(arr_1, arr_2)\n",
        "print('Bitwise OR: {}\\n'.format(arr_or))\n",
        "\n",
        "# Bitwise XOR Operation\n",
        "arr_xor = np.bitwise_xor(arr_1, arr_2)\n",
        "print('Bitwise XOR: {}\\n'.format(arr_xor))\n"
      ],
      "execution_count": null,
      "outputs": [
        {
          "output_type": "stream",
          "name": "stdout",
          "text": [
            "Array 1: [  2   8 125]\n",
            "\n",
            "Array 2: [  3   3 115]\n",
            "\n",
            "Bitwise AND: [  2   0 113]\n",
            "\n",
            "Bitwise OR: [  3  11 127]\n",
            "\n",
            "Bitwise XOR: [ 1 11 14]\n",
            "\n"
          ]
        }
      ]
    },
    {
      "cell_type": "code",
      "metadata": {
        "colab": {
          "base_uri": "https://localhost:8080/"
        },
        "id": "WDU8g4CXzX8e",
        "outputId": "05c3dfaa-2525-4f63-c38e-866bbf35fb7b"
      },
      "source": [
        "# BINARY OPERATIONS\n",
        "\n",
        "import numpy as np\n",
        "\n",
        "arr_1 = np.array([2, 8, 15])\n",
        "print('Array 1: {}\\n'.format(arr_1))\n",
        "\n",
        "# Bitwise NOT Operation\n",
        "arr_not = np.invert(arr_1)\n",
        "print('Bitwise NOT: {}\\n'.format(arr_not))\n",
        "\n",
        "# Bit shift Operations\n",
        "bit_shift_1 = np.array([3, 4, 5])\n",
        "print('Bit shift array 1: {}\\n'.format(bit_shift_1))\n",
        "\n",
        "# Left shift\n",
        "arr_left_shift = np.left_shift(arr_1, bit_shift_1)\n",
        "print('Left shift: {}\\n'.format(arr_left_shift))\n",
        "\n",
        "print()\n",
        "\n",
        "arr_2 = np.array([24, 48, 16])\n",
        "print('Array 2: {}\\n'.format(arr_2))\n",
        "\n",
        "bit_shift_2 = np.array([3, 4, 2])\n",
        "print('Bit shift array 2: {}\\n'.format(bit_shift_2))\n",
        "\n",
        "# Right shift\n",
        "arr_right_shift = np.right_shift(arr_2, bit_shift_2)\n",
        "print('Right shift: {}\\n'.format(arr_right_shift))\n"
      ],
      "execution_count": null,
      "outputs": [
        {
          "output_type": "stream",
          "name": "stdout",
          "text": [
            "Array 1: [ 2  8 15]\n",
            "\n",
            "Bitwise NOT: [ -3  -9 -16]\n",
            "\n",
            "Bit shift array 1: [3 4 5]\n",
            "\n",
            "Left shift: [ 16 128 480]\n",
            "\n",
            "\n",
            "Array 2: [24 48 16]\n",
            "\n",
            "Bit shift array 2: [3 4 2]\n",
            "\n",
            "Right shift: [3 3 4]\n",
            "\n"
          ]
        }
      ]
    },
    {
      "cell_type": "code",
      "metadata": {
        "colab": {
          "base_uri": "https://localhost:8080/"
        },
        "id": "ibiRCb_V1JPO",
        "outputId": "ceefd52a-59ed-4715-a7a3-bbc86516c0ce"
      },
      "source": [
        "# BINARY OPERATIONS\n",
        "\n",
        "import numpy as np\n",
        "\n",
        "in_arr = [5, -8]\n",
        "\n",
        "print()\n",
        "\n",
        "print(\"Input array : \", in_arr)\n",
        "\n",
        "# Without using width parameter\n",
        "out_num = np.binary_repr(in_arr[0])\n",
        "print(\"Binary representation of 5\")\n",
        "print(\"Without using width parameter : \", out_num)\n",
        "\n",
        "# Using width parameter\n",
        "out_num = np.binary_repr(in_arr[0], width=5)\n",
        "print(\"Using width parameter: \", out_num)\n",
        "\n",
        "print(\"\\nBinary representation of -8\")\n",
        "\n",
        "# Without using width parameter\n",
        "out_num = np.binary_repr(in_arr[1])\n",
        "print(\"Without using width parameter : \", out_num)\n",
        "\n",
        "# Using width parameter\n",
        "out_num = np.binary_repr(in_arr[1], width=5)\n",
        "print(\"Using width parameter : \", out_num)\n"
      ],
      "execution_count": null,
      "outputs": [
        {
          "output_type": "stream",
          "name": "stdout",
          "text": [
            "\n",
            "Input array :  [5, -8]\n",
            "Binary representation of 5\n",
            "Without using width parameter :  101\n",
            "Using width parameter:  00101\n",
            "\n",
            "Binary representation of -8\n",
            "Without using width parameter :  -1000\n",
            "Using width parameter :  11000\n"
          ]
        }
      ]
    },
    {
      "cell_type": "markdown",
      "metadata": {
        "id": "w_jo0_6X1rJJ"
      },
      "source": [
        "## Linear Algebra using Numpy\n",
        "\n",
        "The Linear Algebra module of NumPy offers various methods to apply linear algebra on any numpy array.\n",
        "One can find:\n",
        "\n",
        "1. rank, determinant, trace, etc. of an array.\n",
        "2. eigen values of matrices\n",
        "3. matrix and vector products (dot, inner, outer,etc. product), matrix exponentiation\n",
        "4. solve linear or tensor equations"
      ]
    },
    {
      "cell_type": "code",
      "metadata": {
        "colab": {
          "base_uri": "https://localhost:8080/"
        },
        "id": "zQUy20Yt1xJ4",
        "outputId": "fb5f5685-39c9-46db-e426-b818cd40505d"
      },
      "source": [
        "# LINEAR ALGEBRA\n",
        "\n",
        "import numpy as np\n",
        "\n",
        "A = np.array([[6, 1, 1],\n",
        "              [4, -2, 5],\n",
        "              [2, 8, 7]])\n",
        "\n",
        "# Rank of a matrix\n",
        "print(\"Rank of A:\", np.linalg.matrix_rank(A))\n",
        "\n",
        "# Trace of matrix A\n",
        "print(\"\\nTrace of A:\", np.trace(A))\n",
        "\n",
        "# Determinant of a matrix\n",
        "print(\"\\nDeterminant of A:\", np.linalg.det(A))\n",
        "\n",
        "# Inverse of matrix A\n",
        "print(\"\\nInverse of A:\\n\", np.linalg.inv(A))\n",
        "\n",
        "print(\"\\nMatrix A raised to power 3:\\n\",\n",
        "      np.linalg.matrix_power(A, 3))\n"
      ],
      "execution_count": null,
      "outputs": [
        {
          "output_type": "stream",
          "name": "stdout",
          "text": [
            "Rank of A: 3\n",
            "\n",
            "Trace of A: 11\n",
            "\n",
            "Determinant of A: -306.0\n",
            "\n",
            "Inverse of A:\n",
            " [[ 0.17647059 -0.00326797 -0.02287582]\n",
            " [ 0.05882353 -0.13071895  0.08496732]\n",
            " [-0.11764706  0.1503268   0.05228758]]\n",
            "\n",
            "Matrix A raised to power 3:\n",
            " [[336 162 228]\n",
            " [406 162 469]\n",
            " [698 702 905]]\n"
          ]
        }
      ]
    },
    {
      "cell_type": "code",
      "metadata": {
        "colab": {
          "base_uri": "https://localhost:8080/"
        },
        "id": "OxK9WMWW2-Y_",
        "outputId": "8e9fa1b1-c0c2-42c3-83da-0a6e3b8ecd1b"
      },
      "source": [
        "# LINEAR ALGEBRA\n",
        "\n",
        "# Matrix and Vector products\n",
        "\n",
        "import numpy as np\n",
        "\n",
        "\n",
        "# Using numpy.dot(): returns the dot product of vectors a and b\n",
        "\n",
        "# Scalars\n",
        "product = np.dot(5, 4)\n",
        "print(\"Dot Product of scalar values  : \", product)\n",
        "\n",
        "# 1D array\n",
        "vector_a = 2 + 3j\n",
        "vector_b = 4 + 5j\n",
        "\n",
        "product = np.dot(vector_a, vector_b)\n",
        "print(\"Dot Product  : \", product)\n",
        "\n",
        "# Using numpy.vdot(): Returns the dot product of vectors a and b. If first\n",
        "# argument is complex the complex conjugate of the first argument is used\n",
        "# for the calculation of the dot product\n",
        "\n",
        "vector_a = 2 + 3j\n",
        "vector_b = 4 + 5j\n",
        "\n",
        "product = np.vdot(vector_a, vector_b)\n",
        "print(\"VDot Product  : \", product)\n"
      ],
      "execution_count": null,
      "outputs": [
        {
          "output_type": "stream",
          "name": "stdout",
          "text": [
            "Dot Product of scalar values  :  20\n",
            "Dot Product  :  (-7+22j)\n",
            "VDot Product  :  (23-2j)\n"
          ]
        }
      ]
    },
    {
      "cell_type": "code",
      "metadata": {
        "colab": {
          "base_uri": "https://localhost:8080/"
        },
        "id": "JvIdG5RJ30wE",
        "outputId": "7e1c5ec3-011d-4a8b-b094-ec4e065d5bec"
      },
      "source": [
        "# LINEAR ALGEBRA\n",
        "\n",
        "# Solving equations\n",
        "\n",
        "# numpy.linalg.solve(): Solves a system of linear scalar equations.\n",
        "# Computes the “exact” solution, x, of the linear matrix equation ax = b.\n",
        "\n",
        "import numpy as np\n",
        "\n",
        "a = np.array([[1, 2], [3, 4]])\n",
        "\n",
        "b = np.array([8, 18])\n",
        "\n",
        "print(\"Solution of linear equations:\", np.linalg.solve(a, b))\n"
      ],
      "execution_count": null,
      "outputs": [
        {
          "output_type": "stream",
          "name": "stdout",
          "text": [
            "Solution of linear equations: [2. 3.]\n"
          ]
        }
      ]
    },
    {
      "cell_type": "markdown",
      "metadata": {
        "id": "dbZV0EfMJPqA"
      },
      "source": [
        "### Using numpy.sum():\n",
        "\n",
        "`numpy.sum(arr, axis, dtype, out)` : This function returns the sum of array elements over the specified axis.\n",
        "\n",
        "out : Different array in which we want to place the result. The array must have same dimensions as expected output. Default is None.\n",
        "\n",
        "\n",
        "\n",
        "### Using numpy.add(): \n",
        "\n",
        "`numpy.add(arr1, arr2, /, out=None)` : This function is used when we want to compute the addition of two array. It adds arguments element-wise.\n",
        "\n",
        "If shape of two arrays are not same, they must be broadcastable to a common shape.\n",
        "\n",
        "Broadcastable arrays - should have same dimensions or the dimension of one of the arrays should be 1."
      ]
    },
    {
      "cell_type": "code",
      "metadata": {
        "colab": {
          "base_uri": "https://localhost:8080/"
        },
        "id": "zppi9oxFKg1B",
        "outputId": "5b08e73c-dba2-425d-d4cd-f1d69c8e858f"
      },
      "source": [
        "# Using numpy.sum()\n",
        "\n",
        "import numpy as np\n",
        "\n",
        "# 2D array\n",
        "arr = [[14, 17, 12, 33, 44],\n",
        "       [15, 6, 27, 8, 19],\n",
        "       [23, 2, 54, 1, 4, ]]\n",
        "\n",
        "print(\"\\nSum of arr : \", np.sum(arr))\n",
        "\n",
        "print(\"\\nSum of arr : \", np.sum(arr, axis=0))\n",
        "\n",
        "print(\"\\nSum of arr : \", np.sum(arr, axis=1))\n"
      ],
      "execution_count": null,
      "outputs": [
        {
          "output_type": "stream",
          "name": "stdout",
          "text": [
            "\n",
            "Sum of arr :  279\n",
            "\n",
            "Sum of arr :  [52 25 93 42 67]\n",
            "\n",
            "Sum of arr :  [120  75  84]\n"
          ]
        }
      ]
    },
    {
      "cell_type": "code",
      "metadata": {
        "colab": {
          "base_uri": "https://localhost:8080/"
        },
        "id": "N2Tdr3wnK_O5",
        "outputId": "36bc73e5-3f08-4da6-c45f-bcb685b24bb5"
      },
      "source": [
        "# Using numpy.add()\n",
        "\n",
        "import numpy as np\n",
        "\n",
        "in_arr1 = np.array([[2, -7, 5], [-6, 2, 0]])\n",
        "in_arr2 = np.array([[5, 8, -5], [3, 6, 9]])\n",
        "\n",
        "print(\"1st Input array : \\n\", in_arr1)\n",
        "print(\"2nd Input array : \\n\", in_arr2)\n",
        "\n",
        "out_arr = np.add(in_arr1, in_arr2)\n",
        "print(\"output added array : \\n\", out_arr)\n"
      ],
      "execution_count": null,
      "outputs": [
        {
          "output_type": "stream",
          "name": "stdout",
          "text": [
            "1st Input array : \n",
            " [[ 2 -7  5]\n",
            " [-6  2  0]]\n",
            "2nd Input array : \n",
            " [[ 5  8 -5]\n",
            " [ 3  6  9]]\n",
            "output added array : \n",
            " [[ 7  1  0]\n",
            " [-3  8  9]]\n"
          ]
        }
      ]
    },
    {
      "cell_type": "markdown",
      "metadata": {
        "id": "lhUvhuCw7Fop"
      },
      "source": [
        "### numpy.concatenate()\n",
        "\n",
        "`numpy.concatenate()` function concatenate a sequence of arrays along an existing axis.\n",
        "\n",
        "It is used to join two or more arrays"
      ]
    },
    {
      "cell_type": "code",
      "metadata": {
        "colab": {
          "base_uri": "https://localhost:8080/"
        },
        "id": "zp04c7GhL87b",
        "outputId": "b6f03451-fb2f-4508-8f7e-b18428eee52c"
      },
      "source": [
        "# Concatenate\n",
        "\n",
        "import numpy as np\n",
        "\n",
        "arr1 = np.array([[2, 4], [6, 8]])\n",
        "arr2 = np.array([[3, 5], [7, 9]])\n",
        "print('Array 1: \\n', arr1)\n",
        "print('Array 2: \\n', arr2)\n",
        "gfg_1 = np.concatenate((arr1, arr2), axis=1)\n",
        "print('Horizontally: \\n', gfg_1)\n",
        "\n",
        "gfg_2 = np.concatenate((arr1, arr2), axis=0)\n",
        "print('Vertically: \\n', gfg_2)\n"
      ],
      "execution_count": null,
      "outputs": [
        {
          "output_type": "stream",
          "name": "stdout",
          "text": [
            "Array 1: \n",
            " [[2 4]\n",
            " [6 8]]\n",
            "Array 2: \n",
            " [[3 5]\n",
            " [7 9]]\n",
            "Horizontally: \n",
            " [[2 4 3 5]\n",
            " [6 8 7 9]]\n",
            "Vertically: \n",
            " [[2 4]\n",
            " [6 8]\n",
            " [3 5]\n",
            " [7 9]]\n"
          ]
        }
      ]
    },
    {
      "cell_type": "markdown",
      "metadata": {
        "id": "cfIzTs_rMmZv"
      },
      "source": [
        "### numpy.append()\n",
        "\n",
        "`numpy.append(array, values, axis = None)` : appends values along the mentioned axis at the end of the array. \n",
        "\n",
        "It is used to add items/elements/arrays."
      ]
    },
    {
      "cell_type": "code",
      "metadata": {
        "colab": {
          "base_uri": "https://localhost:8080/"
        },
        "id": "NyIDlP3uNOoH",
        "outputId": "189eb6dc-4ac7-4096-c32f-add6755a4b22"
      },
      "source": [
        "# numpy.append()\n",
        "\n",
        "import numpy as np\n",
        "\n",
        "arr = np.array([[2, 3, 1],\n",
        "                [4, 8, 1]])\n",
        "print('Original Array: \\n', arr)\n",
        "mylist = [[3, 1, 0], [4, 5, 1]]  # Dimensions should be the same.\n",
        "print('List: ', mylist)\n",
        "\n",
        "new_arr = np.append(arr, mylist, axis=1)\n",
        "print('\\nAppended array: \\n', new_arr)\n",
        "\n",
        "print()\n",
        "\n",
        "arr_2 = np.append(arr, [[3, 4, 1], [1, 4, 0]], axis=0)\n",
        "print(arr_2)\n",
        "# Error when only one list is given.\n"
      ],
      "execution_count": null,
      "outputs": [
        {
          "output_type": "stream",
          "name": "stdout",
          "text": [
            "Original Array: \n",
            " [[2 3 1]\n",
            " [4 8 1]]\n",
            "List:  [[3, 1, 0], [4, 5, 1]]\n",
            "\n",
            "Appended array: \n",
            " [[2 3 1 3 1 0]\n",
            " [4 8 1 4 5 1]]\n",
            "\n",
            "[[2 3 1]\n",
            " [4 8 1]\n",
            " [3 4 1]\n",
            " [1 4 0]]\n"
          ]
        }
      ]
    },
    {
      "cell_type": "markdown",
      "metadata": {
        "id": "JH454jQZ7MDz"
      },
      "source": [
        "## Sorting\n",
        "\n",
        "Arranging data in a specific order. We can sort a numpy array in the following ways:\n",
        "\n",
        "1. numpy.sort(): Returns sorted copy of the array\n",
        "\n",
        "2. numpy.argsort(): Returns indices that would sort an array\n",
        "\n",
        "3. numpy.sort_complex(): Sorts an array with real part first, then the imaginary part\n"
      ]
    },
    {
      "cell_type": "code",
      "metadata": {
        "colab": {
          "base_uri": "https://localhost:8080/"
        },
        "id": "u6QuTTMg77Vo",
        "outputId": "0980d25c-1f7e-41f0-991e-5ad5c9d81d17"
      },
      "source": [
        "# SORTING\n",
        "\n",
        "# Using numpy.sort()\n",
        "\n",
        "import numpy as np\n",
        "\n",
        "a = np.array([[12, 15], [10, 1]])\n",
        "print('Array 1: \\n{}\\n'.format(a))\n",
        "arr1 = np.sort(a, axis=0)\n",
        "print(\"Column wise (axis=0) : \\n\", arr1)\n",
        "\n",
        "a = np.array([[10, 15], [12, 1]])\n",
        "print('\\nArray 2: \\n{}\\n'.format(a))\n",
        "arr2 = np.sort(a, axis=1)        # Axis=1 and Axis=-1 are the same\n",
        "print(\"Row wise (axis=1/-1) : \\n\", arr2)\n",
        "\n",
        "arr1 = np.sort(a, axis=None)\n",
        "print(\"\\nAlong none axis : \\n\", arr1)\n"
      ],
      "execution_count": null,
      "outputs": [
        {
          "output_type": "stream",
          "name": "stdout",
          "text": [
            "Array 1: \n",
            "[[12 15]\n",
            " [10  1]]\n",
            "\n",
            "Column wise (axis=0) : \n",
            " [[10  1]\n",
            " [12 15]]\n",
            "\n",
            "Array 2: \n",
            "[[10 15]\n",
            " [12  1]]\n",
            "\n",
            "Row wise (axis=1/-1) : \n",
            " [[10 15]\n",
            " [ 1 12]]\n",
            "\n",
            "Along none axis : \n",
            " [ 1 10 12 15]\n"
          ]
        }
      ]
    },
    {
      "cell_type": "code",
      "metadata": {
        "colab": {
          "base_uri": "https://localhost:8080/"
        },
        "id": "-l2f8yD77H4x",
        "outputId": "6a8d8009-b144-4a68-eb15-60598657ef4c"
      },
      "source": [
        "# SORTING\n",
        "\n",
        "# Using numpy.argsort()\n",
        "\n",
        "import numpy as np\n",
        "\n",
        "a = np.array([9, 3, 1, 7, 4, 3, 6])\n",
        "print('Original array:\\n', a)\n",
        "\n",
        "b = np.argsort(a)\n",
        "print('Sorted indices of original array->', b)\n"
      ],
      "execution_count": null,
      "outputs": [
        {
          "output_type": "stream",
          "name": "stdout",
          "text": [
            "Original array:\n",
            " [9 3 1 7 4 3 6]\n",
            "Sorted indices of original array-> [2 1 5 4 6 3 0]\n"
          ]
        }
      ]
    },
    {
      "cell_type": "code",
      "metadata": {
        "colab": {
          "base_uri": "https://localhost:8080/"
        },
        "id": "adVVfSDnD-zL",
        "outputId": "918d94d6-c3e5-4ca3-c31c-7dfcfe901885"
      },
      "source": [
        "# SORTING\n",
        "\n",
        "import numpy as np\n",
        "\n",
        "arr_1 = np.array([4, 8, 1, 2, 9])\n",
        "names = np.array(['A', 'B', 'C', 'D', 'E'])\n",
        "\n",
        "# Low to High\n",
        "sort_1 = np.sort(arr_1)\n",
        "print('Sorted Array 1: {}\\n'.format(sort_1))\n",
        "\n",
        "# High to Low\n",
        "sort_2 = np.sort(arr_1)[::-1]\n",
        "print('Sorted Array 2: {}\\n'.format(sort_2))\n",
        "\n",
        "# Sorting names\n",
        "sort_names = names[np.argsort(arr_1)[::-1]]\n",
        "print('Sorted Names: {}'.format(sort_names))\n"
      ],
      "execution_count": null,
      "outputs": [
        {
          "output_type": "stream",
          "name": "stdout",
          "text": [
            "Sorted Array 1: [1 2 4 8 9]\n",
            "\n",
            "Sorted Array 2: [9 8 4 2 1]\n",
            "\n",
            "Sorted Names: ['E' 'B' 'A' 'D' 'C']\n"
          ]
        }
      ]
    },
    {
      "cell_type": "markdown",
      "metadata": {
        "id": "-F0-AYWQGK64"
      },
      "source": [
        "## Searching\n",
        "\n",
        "Searching is an operation or a technique that helps finds the place of a given element or value in the list. This can be done in some of the following ways:\n",
        "\n",
        "1. numpy.argmax(): Returns indices of the max element of the array in a particular axis.\n",
        "\n",
        "2. numpy.nanargmax(): Returns indices of the max element of the array in a particular axis ignoring NaNs.The results cannot be trusted if a slice contains only NaNs and Infs.\n",
        "\n",
        "3. numpy.argmin(): Returns the indices of the minimum values along an axis.\n",
        "\n",
        "4. numpy.where(): Returns the indices of elements in an input array where the given condition is satisfied."
      ]
    },
    {
      "cell_type": "code",
      "metadata": {
        "colab": {
          "base_uri": "https://localhost:8080/"
        },
        "id": "dm8kXxPIE6k4",
        "outputId": "0e208ff4-882b-4a39-92fc-eec9dc9b5d98"
      },
      "source": [
        "# SEARCHING\n",
        "\n",
        "import numpy as np\n",
        "\n",
        "array = np.arange(12).reshape(3, 4)\n",
        "print(\"INPUT ARRAY : \\n\", array)\n",
        "\n",
        "print(\"\\nMax element : \", np.argmax(array))\n",
        "\n",
        "print(\"Indices of Max element: \", np.argmax(array, axis=0))\n",
        "print(\"Indices of Max element: \", np.argmax(array, axis=1))\n",
        "print(\"Indices of min element : \", np.argmin(array, axis=0))\n",
        "\n",
        "print()\n",
        "\n",
        "# numpy.where()\n",
        "\n",
        "a = np.array([[1, 2, 3], [4, 5, 6]])\n",
        "print('Array 2: \\n', a)\n",
        "\n",
        "print('Indices of elements <4')\n",
        "\n",
        "b = np.where(a < 4)\n",
        "print(b)\n",
        "\n",
        "print(\"Elements which are <4\")\n",
        "print(a[b])\n"
      ],
      "execution_count": null,
      "outputs": [
        {
          "output_type": "stream",
          "name": "stdout",
          "text": [
            "INPUT ARRAY : \n",
            " [[ 0  1  2  3]\n",
            " [ 4  5  6  7]\n",
            " [ 8  9 10 11]]\n",
            "\n",
            "Max element :  11\n",
            "Indices of Max element:  [2 2 2 2]\n",
            "Indices of Max element:  [3 3 3]\n",
            "Indices of min element :  [0 0 0 0]\n",
            "\n",
            "Array 2: \n",
            " [[1 2 3]\n",
            " [4 5 6]]\n",
            "Indices of elements <4\n",
            "(array([0, 0, 0]), array([0, 1, 2]))\n",
            "Elements which are <4\n",
            "[1 2 3]\n"
          ]
        }
      ]
    },
    {
      "cell_type": "markdown",
      "metadata": {
        "id": "uGeiSnzAIkae"
      },
      "source": [
        "## Counting\n",
        "\n",
        "`numpy.count_nonzero()` : Counts the number of non-zero values in the array ."
      ]
    },
    {
      "cell_type": "code",
      "metadata": {
        "colab": {
          "base_uri": "https://localhost:8080/"
        },
        "id": "06uxZ_muIjlx",
        "outputId": "93b652ae-6eb0-4c9d-cf4b-148fcc1f5b3c"
      },
      "source": [
        "import numpy as np\n",
        "\n",
        "# Counting a number of non-zero values\n",
        "a = np.count_nonzero([[0, 1, 7, 0, 0], [3, 0, 0, 2, 19]])\n",
        "b = np.count_nonzero([[0, 1, 7, 0, 0], [3, 0, 0, 2, 19]], axis=0)\n",
        "\n",
        "print(\"Number of nonzero values is :\", a)\n",
        "print(\"Number of nonzero values is :\", b)\n"
      ],
      "execution_count": null,
      "outputs": [
        {
          "output_type": "stream",
          "name": "stdout",
          "text": [
            "Number of nonzero values is : 5\n",
            "Number of nonzero values is : [1 1 1 1 1]\n"
          ]
        }
      ]
    }
  ]
}